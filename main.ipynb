{
 "cells": [
  {
   "cell_type": "code",
   "execution_count": 28,
   "metadata": {},
   "outputs": [],
   "source": [
    "from langchain.chat_models import ChatOpenAI\n",
    "from langchain.tools import tool\n",
    "from langchain.chains import LLMChain\n",
    "from langchain.prompts import ChatPromptTemplate, MessagesPlaceholder\n",
    "from langchain.schema.agent import AgentFinish\n",
    "from langchain.tools.render import format_tool_to_openai_function\n",
    "from langchain.agents.output_parsers import OpenAIFunctionsAgentOutputParser\n",
    "from pydantic import BaseModel, Field\n",
    "from llama_index.core import SimpleDirectoryReader\n",
    "from pydantic import BaseModel, Field"
   ]
  },
  {
   "cell_type": "code",
   "execution_count": 2,
   "metadata": {},
   "outputs": [
    {
     "name": "stderr",
     "output_type": "stream",
     "text": [
      "C:\\Users\\Design Dep\\AppData\\Local\\Temp\\ipykernel_8616\\1305393998.py:1: LangChainDeprecationWarning: The class `ChatOpenAI` was deprecated in LangChain 0.0.10 and will be removed in 1.0. An updated version of the class exists in the :class:`~langchain-openai package and should be used instead. To use it run `pip install -U :class:`~langchain-openai` and import as `from :class:`~langchain_openai import ChatOpenAI``.\n",
      "  openai_llm = ChatOpenAI(temperature=0, model=\"gpt-4o\")\n"
     ]
    }
   ],
   "source": [
    "openai_llm = ChatOpenAI(temperature=0, model=\"gpt-4o\")"
   ]
  },
  {
   "cell_type": "code",
   "execution_count": 33,
   "metadata": {},
   "outputs": [],
   "source": [
    "cv_template =\"\"\"\n",
    "\n",
    "You are an expert in analyzing CVs and providing personalized career advice. Given an individual's CV, you will:\n",
    "\n",
    "1. Conduct a detailed analysis of their skills, experience, qualifications, and overall suitability for various roles.\n",
    "2. Recommend the best job opportunities that align with their profile, ensuring that the suggestions are well-matched to their strengths and career goals.\n",
    "3. Take into account current industry trends, job market demand, and emerging opportunities to ensure that your recommendations are both relevant and forward-thinking.\n",
    "4. Provide actionable insights that can help improve the CV, such as highlighting areas for growth or skill enhancement based on market needs.\n",
    "\n",
    "Your goal is to give comprehensive, data-driven advice that helps individuals make informed career decisions.\n",
    "\n",
    "below is the CV:\n",
    "{input}\n",
    "\n",
    "\n",
    "The output should have the following keywords\n",
    "\n",
    "Skills_and_experience_analysis,\n",
    "job_opportunities\n",
    "industry_trends_and_market_demand\n",
    "cv_improvement_suggestions\n",
    "\"\"\"\n",
    "email_template = \"\"\"\n",
    "You are an expert in writing application letters. Your task is to create a compelling and professional cover letter based on an individual's skills and experience, showcasing how they align with the job they're applying for.\n",
    "\n",
    "Please ensure that the application letter includes:\n",
    "- A strong introduction highlighting the candidate’s background and motivation for applying.\n",
    "- A section detailing the key skills and experience that make the candidate a strong fit for the position.\n",
    "- A concluding paragraph that emphasizes the candidate’s enthusiasm and readiness for the role.\n",
    "\n",
    "Use a professional tone, and ensure the letter is clear and focused on presenting the candidate in the best possible light.\n",
    "\n",
    "The candidate's CV:\n",
    "{input}\n",
    "\n",
    "The job being applied for is:\n",
    "{job_description}\n",
    "\n",
    "Please format the letter as follows:\n",
    "1. Introduction\n",
    "2. Skills and Experience\n",
    "3. Closing and Enthusiasm\n",
    "\"\"\"\n",
    "\n",
    "\n"
   ]
  },
  {
   "cell_type": "code",
   "execution_count": 32,
   "metadata": {},
   "outputs": [],
   "source": [
    "import gradio as gr\n",
    "import os\n",
    "def get_file(file_path):\n",
    "    directory_name = os.path.dirname(file_path)  \n",
    "    \n",
    "    documents = SimpleDirectoryReader(directory_name).load_data()    \n",
    "    prompt = ChatPromptTemplate.from_template(cv_template)\n",
    "    chain = LLMChain(prompt=prompt, llm=openai_llm)\n",
    "    global doc_info \n",
    "    doc_info = documents[0].text\n",
    "    global cv_llm_response\n",
    "    cv_llm_response = chain.run({\"input\":doc_info})\n",
    "    return cv_llm_response\n",
    "demo = gr.Interface(fn=get_file, inputs=gr.File(), outputs=\"text\")\n"
   ]
  },
  {
   "cell_type": "code",
   "execution_count": 31,
   "metadata": {},
   "outputs": [],
   "source": [
    "# demo.launch()\n",
    "demo.close()"
   ]
  },
  {
   "cell_type": "code",
   "execution_count": null,
   "metadata": {},
   "outputs": [],
   "source": [
    "class CVDetails(BaseModel):\n",
    "    cv_summary :str = Field(description=\"The overall summary of the person Cv\")"
   ]
  },
  {
   "cell_type": "code",
   "execution_count": null,
   "metadata": {},
   "outputs": [],
   "source": [
    "from bs4 import BeautifulSoup\n",
    "import requests\n",
    "\n",
    "html_text = requests.get(\"https://www.myjob.mu/Jobs/ICT-IT-Web/\").text\n",
    "\n",
    "soup = BeautifulSoup(html_text, \"lxml\")\n",
    "job_results = soup.find_all(\"div\", class_=\"module job-result\")\n",
    "if len(job_results)> 0:\n",
    "    for job in job_results:\n",
    "        company_name = job.find('h3', itemprop=\"name\")\n",
    "        company_name = company_name.a.text\n",
    "        print(f\"company_name is {company_name}\")\n",
    "        job_name = job.find(\"h2\", itemprop=\"title\")\n",
    "        job_name = job_name.a.text\n",
    "        job_results_overview = job.find(\"div\", class_=\"job-result-overview\")\n",
    "        overview = job_results_overview.find(\"\")\n",
    "        print(f\"job name is: {job_name}\")\n",
    "        #job_description =\n",
    "\n"
   ]
  },
  {
   "cell_type": "code",
   "execution_count": null,
   "metadata": {},
   "outputs": [],
   "source": []
  }
 ],
 "metadata": {
  "kernelspec": {
   "display_name": ".venv",
   "language": "python",
   "name": "python3"
  },
  "language_info": {
   "codemirror_mode": {
    "name": "ipython",
    "version": 3
   },
   "file_extension": ".py",
   "mimetype": "text/x-python",
   "name": "python",
   "nbconvert_exporter": "python",
   "pygments_lexer": "ipython3",
   "version": "3.11.0"
  }
 },
 "nbformat": 4,
 "nbformat_minor": 2
}
