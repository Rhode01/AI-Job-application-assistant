{
 "cells": [
  {
   "cell_type": "code",
   "execution_count": 6,
   "metadata": {},
   "outputs": [],
   "source": [
    "from langchain.chat_models import ChatOpenAI\n",
    "from langchain.tools import tool\n",
    "from langchain.prompts import ChatPromptTemplate, MessagesPlaceholder\n",
    "from langchain.schema.agent import AgentFinish\n",
    "from langchain.tools.render import format_tool_to_openai_function\n",
    "from langchain.agents.output_parsers import OpenAIFunctionsAgentOutputParser\n",
    "from pydantic import BaseModel, Field\n",
    "from llama_index.core import VectorStoreIndex, SimpleDirectoryReader\n",
    "from utils import load_cv_file\n",
    "from pydantic import BaseModel, Field"
   ]
  },
  {
   "cell_type": "code",
   "execution_count": 7,
   "metadata": {},
   "outputs": [],
   "source": [
    "client = ChatOpenAI(temperature=0, model=\"gpt-4o\")"
   ]
  },
  {
   "cell_type": "code",
   "execution_count": null,
   "metadata": {},
   "outputs": [],
   "source": [
    "class CVDetails(BaseModel):\n",
    "    cv_summary :str = Field(description=\"The overall summary of the person Cv\")"
   ]
  },
  {
   "cell_type": "code",
   "execution_count": null,
   "metadata": {},
   "outputs": [
    {
     "name": "stdout",
     "output_type": "stream",
     "text": [
      "company_name is Alentaris Recruitment Ltd\n",
      "job name is: IT Coordinator (2504 ITC)\n",
      "company_name is EURO CRM (Mauritius) Ltd\n",
      "job name is: TÉLÉVENDEUR DÉBUTANT (VENTE ENTRANTE) SITE EBENE\n",
      "company_name is EURO CRM (Mauritius) Ltd\n",
      "job name is: TÉLÉVENDEUR AVEC OU SANS EXPÉRIENCE DU LUNDI-VENDREDI\n",
      "company_name is Hidden Company\n",
      "job name is: DevOps Engineer\n",
      "company_name is ELCA\n",
      "job name is: Associate Engineer - Power Platform\n",
      "company_name is ELCA\n",
      "job name is: Associate Engineer Business Central\n",
      "company_name is TALENTEUM\n",
      "job name is: Technicien de Support S.I. Retail\n",
      "company_name is TALENTEUM\n",
      "job name is: Technicien de Support Billingue\n",
      "company_name is TALENTEUM\n",
      "job name is: Chief Technology Officer (CTO)\n",
      "company_name is TALENTEUM\n",
      "job name is: Développeur C#\n",
      "company_name is TALENTEUM\n",
      "job name is: Développeur Expérimenté PL/SQL – Opportunité d'Expatriation à Maurice\n",
      "company_name is TALENTEUM\n",
      "job name is: Ingénieur Cloud & DevOps (Full Remote, Contrat Indépendant)\n",
      "company_name is TALENTEUM\n",
      "job name is: Analyste Applicatif\n",
      "company_name is Leal Communications & Informatics Ltd\n",
      "job name is: Sales Officer\n",
      "company_name is Leal & Co Ltd\n",
      "job name is: Senior Business Systems Consultant\n",
      "company_name is Learn & Progress Ltd\n",
      "job name is: Chargé(e) de Projets / Formateur / Formatrice\n",
      "company_name is BIA\n",
      "job name is: Data Engineer\n",
      "company_name is ALDELIA AFRICA\n",
      "job name is: Full Stack Developer\n",
      "company_name is EURO CRM (Mauritius) Ltd\n",
      "job name is: TÉLÉVENDEURS AVEC 2 ANS D'EXPÉRIENCES (Minimum)\n",
      "company_name is RA Consulting Services(Pty) Ltd\n",
      "job name is: Helpdesk Engineer\n",
      "company_name is ACCESSA GROUP (MASCAREIGNES) LTD\n",
      "job name is: HOTLINE ENGINEER\n",
      "company_name is Linkeo Ltd\n",
      "job name is: Technicien Helpdesk (Horaire FR)\n",
      "company_name is RA Consulting Services(Pty) Ltd\n",
      "job name is: IT Sales Executive\n",
      "company_name is Service Plus Monde SPM Ltée\n",
      "job name is: Hotliner-Service Technique\n",
      "company_name is Hidden Company\n",
      "job name is: Junior AI Consultant\n",
      "company_name is Extension Interactive\n",
      "job name is: Chef De Projet Digital\n",
      "company_name is Versusmind Indian Ocean Ltd\n",
      "job name is: Consultant Développeur .NET\n",
      "company_name is Teamwork Center Competency Ltd\n",
      "job name is: Consultant HD\n",
      "company_name is Mindquest (Africa) Ltd\n",
      "job name is: Senior Talent Acquisition Specialist (H/F) - Ile Maurice\n",
      "company_name is Accenture\n",
      "job name is: Fresh Graduate 2024 Intake\n",
      "company_name is Accenture\n",
      "job name is: SAP FICO Consultant\n",
      "company_name is Accenture\n",
      "job name is: SAP Sales & Distribution/Materials Management Consultant\n",
      "company_name is Accenture\n",
      "job name is: Project Management Officer\n",
      "company_name is Accenture\n",
      "job name is: SAP ABAP Developer\n",
      "company_name is Accenture\n",
      "job name is: Senior SAP Basis Consultant\n",
      "company_name is CIEL Textile Group\n",
      "job name is: Experienced Software Engineer\n",
      "company_name is CIEL Textile Group\n",
      "job name is: Software Engineer (Recent Graduate)\n",
      "company_name is Emtel Ltd (currimjee group)\n",
      "job name is: Service Operations Centre (SOC) Analyst – Network and Media\n",
      "company_name is Emtel Ltd (currimjee group)\n",
      "job name is: Network Administrator\n",
      "company_name is MANSER SAXON CONTRACTING LTD\n",
      "job name is: IT Network & System Administrator\n"
     ]
    }
   ],
   "source": [
    "from bs4 import BeautifulSoup\n",
    "import requests\n",
    "\n",
    "html_text = requests.get(\"https://www.myjob.mu/Jobs/ICT-IT-Web/\").text\n",
    "\n",
    "soup = BeautifulSoup(html_text, \"lxml\")\n",
    "job_results = soup.find_all(\"div\", class_=\"module job-result\")\n",
    "if len(job_results)> 0:\n",
    "    for job in job_results:\n",
    "        company_name = job.find('h3', itemprop=\"name\")\n",
    "        company_name = company_name.a.text\n",
    "        print(f\"company_name is {company_name}\")\n",
    "        job_name = job.find(\"h2\", itemprop=\"title\")\n",
    "        job_name = job_name.a.text\n",
    "        job_results_overview = job.find(\"div\", class_=\"job-result-overview\")\n",
    "        overview = job_results_overview.find(\"\")\n",
    "        print(f\"job name is: {job_name}\")\n",
    "        #job_description =\n",
    "\n"
   ]
  },
  {
   "cell_type": "code",
   "execution_count": null,
   "metadata": {},
   "outputs": [],
   "source": []
  }
 ],
 "metadata": {
  "kernelspec": {
   "display_name": ".venv",
   "language": "python",
   "name": "python3"
  },
  "language_info": {
   "codemirror_mode": {
    "name": "ipython",
    "version": 3
   },
   "file_extension": ".py",
   "mimetype": "text/x-python",
   "name": "python",
   "nbconvert_exporter": "python",
   "pygments_lexer": "ipython3",
   "version": "3.11.0"
  }
 },
 "nbformat": 4,
 "nbformat_minor": 2
}
