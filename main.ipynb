{
 "cells": [
  {
   "cell_type": "code",
   "execution_count": 1,
   "metadata": {},
   "outputs": [],
   "source": [
    "from langchain.chat_models import ChatOpenAI\n",
    "from langchain.tools import tool\n",
    "from langchain.chains import LLMChain\n",
    "from langchain.prompts import ChatPromptTemplate, MessagesPlaceholder\n",
    "from langchain.schema.agent import AgentFinish\n",
    "from langchain.tools.render import format_tool_to_openai_function\n",
    "from langchain.agents.output_parsers import OpenAIFunctionsAgentOutputParser\n",
    "from pydantic import BaseModel, Field\n",
    "from llama_index.core import VectorStoreIndex, SimpleDirectoryReader\n",
    "from pydantic import BaseModel, Field"
   ]
  },
  {
   "cell_type": "code",
   "execution_count": 2,
   "metadata": {},
   "outputs": [
    {
     "name": "stderr",
     "output_type": "stream",
     "text": [
      "C:\\Users\\Design Dep\\AppData\\Local\\Temp\\ipykernel_8616\\1305393998.py:1: LangChainDeprecationWarning: The class `ChatOpenAI` was deprecated in LangChain 0.0.10 and will be removed in 1.0. An updated version of the class exists in the :class:`~langchain-openai package and should be used instead. To use it run `pip install -U :class:`~langchain-openai` and import as `from :class:`~langchain_openai import ChatOpenAI``.\n",
      "  openai_llm = ChatOpenAI(temperature=0, model=\"gpt-4o\")\n"
     ]
    }
   ],
   "source": [
    "openai_llm = ChatOpenAI(temperature=0, model=\"gpt-4o\")"
   ]
  },
  {
   "cell_type": "code",
   "execution_count": 13,
   "metadata": {},
   "outputs": [],
   "source": [
    "chat_template =\"\"\"\n",
    "\n",
    "You are an expert in analyzing CVs and providing personalized career advice. Given an individual's CV, you will:\n",
    "\n",
    "1. Conduct a detailed analysis of their skills, experience, qualifications, and overall suitability for various roles.\n",
    "2. Recommend the best job opportunities that align with their profile, ensuring that the suggestions are well-matched to their strengths and career goals.\n",
    "3. Take into account current industry trends, job market demand, and emerging opportunities to ensure that your recommendations are both relevant and forward-thinking.\n",
    "4. Provide actionable insights that can help improve the CV, such as highlighting areas for growth or skill enhancement based on market needs.\n",
    "\n",
    "Your goal is to give comprehensive, data-driven advice that helps individuals make informed career decisions.\n",
    "\n",
    "below is the CV:\n",
    "{input}\n",
    "\n",
    "\n",
    "The output should have the following keywords\n",
    "\n",
    "Skills_and_experience_analysis,\n",
    "job_opportunities\n",
    "industry_trends_and_market_demand\n",
    "cv_improvement_suggestions\n",
    "\"\"\"\n",
    "\n"
   ]
  },
  {
   "cell_type": "code",
   "execution_count": 20,
   "metadata": {},
   "outputs": [],
   "source": [
    "import gradio as gr\n",
    "import os\n",
    "def get_file(file_path):\n",
    "    directory_name = os.path.dirname(file_path)  \n",
    "    \n",
    "    documents = SimpleDirectoryReader(directory_name).load_data()    \n",
    "    prompt = ChatPromptTemplate.from_template(chat_template)\n",
    "    chain = LLMChain(prompt=prompt, llm=openai_llm)\n",
    "    global doc_info \n",
    "    doc_info = documents[0].text\n",
    "    response = chain.run({\"input\":doc_info})\n",
    "    return response\n",
    "demo = gr.Interface(fn=get_file, inputs=gr.File(), outputs=\"text\")\n"
   ]
  },
  {
   "cell_type": "code",
   "execution_count": 21,
   "metadata": {},
   "outputs": [
    {
     "name": "stdout",
     "output_type": "stream",
     "text": [
      "* Running on local URL:  http://127.0.0.1:7863\n",
      "* Running on public URL: https://c046452bebc784c052.gradio.live\n",
      "\n",
      "This share link expires in 72 hours. For free permanent hosting and GPU upgrades, run `gradio deploy` from the terminal in the working directory to deploy to Hugging Face Spaces (https://huggingface.co/spaces)\n"
     ]
    },
    {
     "data": {
      "text/html": [
       "<div><iframe src=\"https://c046452bebc784c052.gradio.live\" width=\"100%\" height=\"500\" allow=\"autoplay; camera; microphone; clipboard-read; clipboard-write;\" frameborder=\"0\" allowfullscreen></iframe></div>"
      ],
      "text/plain": [
       "<IPython.core.display.HTML object>"
      ]
     },
     "metadata": {},
     "output_type": "display_data"
    },
    {
     "data": {
      "text/plain": []
     },
     "execution_count": 21,
     "metadata": {},
     "output_type": "execute_result"
    }
   ],
   "source": [
    "demo.launch(share=True)\n",
    "# demo.close()"
   ]
  },
  {
   "cell_type": "code",
   "execution_count": null,
   "metadata": {},
   "outputs": [],
   "source": [
    "class CVDetails(BaseModel):\n",
    "    cv_summary :str = Field(description=\"The overall summary of the person Cv\")"
   ]
  },
  {
   "cell_type": "code",
   "execution_count": null,
   "metadata": {},
   "outputs": [],
   "source": [
    "from bs4 import BeautifulSoup\n",
    "import requests\n",
    "\n",
    "html_text = requests.get(\"https://www.myjob.mu/Jobs/ICT-IT-Web/\").text\n",
    "\n",
    "soup = BeautifulSoup(html_text, \"lxml\")\n",
    "job_results = soup.find_all(\"div\", class_=\"module job-result\")\n",
    "if len(job_results)> 0:\n",
    "    for job in job_results:\n",
    "        company_name = job.find('h3', itemprop=\"name\")\n",
    "        company_name = company_name.a.text\n",
    "        print(f\"company_name is {company_name}\")\n",
    "        job_name = job.find(\"h2\", itemprop=\"title\")\n",
    "        job_name = job_name.a.text\n",
    "        job_results_overview = job.find(\"div\", class_=\"job-result-overview\")\n",
    "        overview = job_results_overview.find(\"\")\n",
    "        print(f\"job name is: {job_name}\")\n",
    "        #job_description =\n",
    "\n"
   ]
  },
  {
   "cell_type": "code",
   "execution_count": null,
   "metadata": {},
   "outputs": [],
   "source": []
  }
 ],
 "metadata": {
  "kernelspec": {
   "display_name": ".venv",
   "language": "python",
   "name": "python3"
  },
  "language_info": {
   "codemirror_mode": {
    "name": "ipython",
    "version": 3
   },
   "file_extension": ".py",
   "mimetype": "text/x-python",
   "name": "python",
   "nbconvert_exporter": "python",
   "pygments_lexer": "ipython3",
   "version": "3.11.0"
  }
 },
 "nbformat": 4,
 "nbformat_minor": 2
}
