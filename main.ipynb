{
 "cells": [
  {
   "cell_type": "code",
   "execution_count": 1,
   "metadata": {},
   "outputs": [],
   "source": [
    "from langchain.chat_models import ChatOpenAI\n",
    "from langchain.tools import tool\n",
    "from langchain.chains import LLMChain\n",
    "from langchain.prompts import ChatPromptTemplate, MessagesPlaceholder\n",
    "from langchain.schema.agent import AgentFinish\n",
    "from langchain.tools.render import format_tool_to_openai_function\n",
    "from langchain.agents.output_parsers import OpenAIFunctionsAgentOutputParser\n",
    "from pydantic import BaseModel, Field\n",
    "from llama_index.core import SimpleDirectoryReader\n",
    "from pydantic import BaseModel, Field"
   ]
  },
  {
   "cell_type": "code",
   "execution_count": 2,
   "metadata": {},
   "outputs": [
    {
     "name": "stderr",
     "output_type": "stream",
     "text": [
      "C:\\Users\\Design Dep\\AppData\\Local\\Temp\\ipykernel_10584\\1305393998.py:1: LangChainDeprecationWarning: The class `ChatOpenAI` was deprecated in LangChain 0.0.10 and will be removed in 1.0. An updated version of the class exists in the :class:`~langchain-openai package and should be used instead. To use it run `pip install -U :class:`~langchain-openai` and import as `from :class:`~langchain_openai import ChatOpenAI``.\n",
      "  openai_llm = ChatOpenAI(temperature=0, model=\"gpt-4o\")\n"
     ]
    }
   ],
   "source": [
    "openai_llm = ChatOpenAI(temperature=0, model=\"gpt-4o\")"
   ]
  },
  {
   "cell_type": "code",
   "execution_count": 3,
   "metadata": {},
   "outputs": [],
   "source": [
    "cv_template =\"\"\"\n",
    "\n",
    "You are an expert in analyzing CVs and providing personalized career advice. Given an individual's CV, you will:\n",
    "\n",
    "1. Conduct a detailed analysis of their skills, experience, qualifications, and overall suitability for various roles.\n",
    "2. Recommend the best job opportunities that align with their profile, ensuring that the suggestions are well-matched to their strengths and career goals.\n",
    "3. Take into account current industry trends, job market demand, and emerging opportunities to ensure that your recommendations are both relevant and forward-thinking.\n",
    "4. Provide actionable insights that can help improve the CV, such as highlighting areas for growth or skill enhancement based on market needs.\n",
    "\n",
    "Your goal is to give comprehensive, data-driven advice that helps individuals make informed career decisions.\n",
    "\n",
    "below is the CV:\n",
    "{input}\n",
    "\n",
    "\n",
    "The output should been a python dict have the following keywords\n",
    "\n",
    "Skills_and_experience_analysis,\n",
    "job_opportunities\n",
    "industry_trends_and_market_demand\n",
    "cv_improvement_suggestions\n",
    "\"\"\"\n",
    "email_template = \"\"\"\n",
    "You are an expert in writing application letters. Your task is to create a compelling and professional cover letter based on an individual's skills and experience, showcasing how they align with the job they're applying for.\n",
    "\n",
    "Please ensure that the application letter includes:\n",
    "- A strong introduction highlighting the candidate’s background and motivation for applying.\n",
    "- A section detailing the key skills and experience that make the candidate a strong fit for the position.\n",
    "- A concluding paragraph that emphasizes the candidate’s enthusiasm and readiness for the role.\n",
    "\n",
    "Use a professional tone, and ensure the letter is clear and focused on presenting the candidate in the best possible light.\n",
    "\n",
    "The candidate's CV:\n",
    "{input}\n",
    "\n",
    "The job being applied for is:\n",
    "{job_description}\n",
    "\n",
    "Please format the letter as follows:\n",
    "1. Introduction\n",
    "2. Skills and Experience\n",
    "3. Closing and Enthusiasm\n",
    "\"\"\"\n",
    "\n",
    "\n"
   ]
  },
  {
   "cell_type": "code",
   "execution_count": 4,
   "metadata": {},
   "outputs": [
    {
     "name": "stderr",
     "output_type": "stream",
     "text": [
      "d:\\Rhodrick\\langChain\\Job application assistant\\.venv\\Lib\\site-packages\\tqdm\\auto.py:21: TqdmWarning: IProgress not found. Please update jupyter and ipywidgets. See https://ipywidgets.readthedocs.io/en/stable/user_install.html\n",
      "  from .autonotebook import tqdm as notebook_tqdm\n"
     ]
    }
   ],
   "source": [
    "import gradio as gr\n",
    "import os\n",
    "def get_file(file_path):\n",
    "    directory_name = os.path.dirname(file_path)  \n",
    "    \n",
    "    documents = SimpleDirectoryReader(directory_name).load_data()    \n",
    "    prompt = ChatPromptTemplate.from_template(cv_template)\n",
    "    chain = LLMChain(prompt=prompt, llm=openai_llm)\n",
    "    global doc_info \n",
    "    doc_info = documents[0].text\n",
    "    global cv_llm_response\n",
    "    cv_llm_response = chain.run({\"input\":doc_info})\n",
    "    return cv_llm_response\n",
    "demo = gr.Interface(fn=get_file, inputs=gr.File(), outputs=\"text\")\n"
   ]
  },
  {
   "cell_type": "code",
   "execution_count": 5,
   "metadata": {},
   "outputs": [
    {
     "name": "stdout",
     "output_type": "stream",
     "text": [
      "* Running on local URL:  http://127.0.0.1:7860\n",
      "\n",
      "To create a public link, set `share=True` in `launch()`.\n"
     ]
    },
    {
     "data": {
      "text/html": [
       "<div><iframe src=\"http://127.0.0.1:7860/\" width=\"100%\" height=\"500\" allow=\"autoplay; camera; microphone; clipboard-read; clipboard-write;\" frameborder=\"0\" allowfullscreen></iframe></div>"
      ],
      "text/plain": [
       "<IPython.core.display.HTML object>"
      ]
     },
     "metadata": {},
     "output_type": "display_data"
    },
    {
     "data": {
      "text/plain": []
     },
     "execution_count": 5,
     "metadata": {},
     "output_type": "execute_result"
    },
    {
     "name": "stderr",
     "output_type": "stream",
     "text": [
      "C:\\Users\\Design Dep\\AppData\\Local\\Temp\\ipykernel_10584\\373388985.py:8: LangChainDeprecationWarning: The class `LLMChain` was deprecated in LangChain 0.1.17 and will be removed in 1.0. Use :meth:`~RunnableSequence, e.g., `prompt | llm`` instead.\n",
      "  chain = LLMChain(prompt=prompt, llm=openai_llm)\n",
      "C:\\Users\\Design Dep\\AppData\\Local\\Temp\\ipykernel_10584\\373388985.py:12: LangChainDeprecationWarning: The method `Chain.run` was deprecated in langchain 0.1.0 and will be removed in 1.0. Use :meth:`~invoke` instead.\n",
      "  cv_llm_response = chain.run({\"input\":doc_info})\n"
     ]
    }
   ],
   "source": [
    "demo.launch()"
   ]
  },
  {
   "cell_type": "code",
   "execution_count": 7,
   "metadata": {},
   "outputs": [
    {
     "name": "stdout",
     "output_type": "stream",
     "text": [
      "Closing server running on port: 7860\n"
     ]
    }
   ],
   "source": [
    "demo.close()"
   ]
  },
  {
   "cell_type": "code",
   "execution_count": 6,
   "metadata": {},
   "outputs": [
    {
     "name": "stdout",
     "output_type": "stream",
     "text": [
      "Software Developer\n",
      "AI Engineer\n",
      "Machine Learning Engineer\n",
      "Web Developer\n",
      "Technical Trainer\n"
     ]
    }
   ],
   "source": [
    "import json\n",
    "job_opportunities = []\n",
    "\n",
    "cleaned_response_string = cv_llm_response.strip('```python\\n').strip('```')\n",
    "json_response = json.loads(cleaned_response_string)\n",
    "\n",
    "if json_response['job_opportunities'] is not None:\n",
    "    for idx,job in enumerate(json_response['job_opportunities']):\n",
    "        response = search_for_jobs(job)\n",
    "        print(job)"
   ]
  },
  {
   "cell_type": "code",
   "execution_count": null,
   "metadata": {},
   "outputs": [],
   "source": [
    "class CVDetails(BaseModel):\n",
    "    cv_summary :str = Field(description=\"The overall summary of the person Cv\")"
   ]
  },
  {
   "cell_type": "code",
   "execution_count": 76,
   "metadata": {},
   "outputs": [
    {
     "name": "stdout",
     "output_type": "stream",
     "text": [
      "h\n",
      "h\n"
     ]
    }
   ],
   "source": [
    "search_for_jobs()"
   ]
  },
  {
   "cell_type": "code",
   "execution_count": 138,
   "metadata": {},
   "outputs": [],
   "source": [
    "from bs4 import BeautifulSoup\n",
    "import requests\n",
    "\n",
    "def search_for_jobs():\n",
    "    url = \"https://myjobo.com/search-jobs?keywords=developer\"\n",
    "    html_text = requests.get(url).text\n",
    "    soup = BeautifulSoup(html_text, \"lxml\")\n",
    "    job_results = soup.find_all(\"div\", class_=\"job-card\")\n",
    "    job_details = []\n",
    "\n",
    "    if len(job_results) > 0:\n",
    "        for job in job_results:\n",
    "            job_div = job.find('div', class_=\"card-body p-0\")\n",
    "            job_title = \"\"\n",
    "            if job_div:\n",
    "                job_title_tag = job_div.find(\"h5\", class_=\"card-title text-secondary fs-18 mb-0\")\n",
    "                if job_title_tag:\n",
    "                    job_title = job_title_tag.text.strip()\n",
    "            \n",
    "                job_div_loc = job_div.find_all(\"div\", class_=\"desc d-flex me-4\")\n",
    "                job_location = \"\"\n",
    "                for i in job_div_loc:\n",
    "                    info = i.find(\"p\", class_=\"fs-14 text-gray mb-2\")\n",
    "                    if info:\n",
    "                        job_location = info.text.strip()\n",
    "                post_date_div = job.find(\"div\", class_=\"desc d-flex\")\n",
    "                post_date = \"\"\n",
    "                if post_date_div:\n",
    "                    post_date_p = post_date_div.find(\"p\", class_=\"fs-14 text-gray mb-2\")\n",
    "                    if post_date_p:\n",
    "                        post_date = post_date_p.text.strip()\n",
    "                \n",
    "                job_descprition_link_div = job.find(\"div\", class_=\"mb-40\")\n",
    "                job_desc_link = \"\"\n",
    "                if job_descprition_link_div:\n",
    "                    job_desc_link_a = job_descprition_link_div.find(\"a\", class_=\"card py-30 border-0\")\n",
    "                    if job_desc_link_a and 'href' in job_desc_link_a.attrs:\n",
    "                        job_desc_link = job_desc_link_a['href'].strip()\n",
    "                \n",
    "               \n",
    "                job_description_html = requests.get(job_desc_link).text\n",
    "                desc_soup = BeautifulSoup(job_description_html, \"lxml\")\n",
    "                \n",
    "                \n",
    "                job_description_div = desc_soup.find(\"div\", class_=\"job-card\")\n",
    "                responsibilities_div = job_description_div.find(\"div\", class_=\"key-responsibilities\")\n",
    "                responsibilities_list = []\n",
    "                if responsibilities_div:\n",
    "                    responsibilities = responsibilities_div.find_all(\"p\")\n",
    "                    for resp in responsibilities:\n",
    "                        responsibilities_list.append(resp.text.strip())\n",
    "                \n",
    "                job_details.append({\n",
    "                    'job_title': job_title,\n",
    "                    'job_location': job_location,\n",
    "                    'post_date': post_date,\n",
    "                    'job_desc_link': job_desc_link,\n",
    "                    'responsibilities': responsibilities_list\n",
    "                })\n",
    "                \n",
    "    return job_details"
   ]
  },
  {
   "cell_type": "code",
   "execution_count": null,
   "metadata": {},
   "outputs": [],
   "source": [
    "search_for_jobs()"
   ]
  }
 ],
 "metadata": {
  "kernelspec": {
   "display_name": ".venv",
   "language": "python",
   "name": "python3"
  },
  "language_info": {
   "codemirror_mode": {
    "name": "ipython",
    "version": 3
   },
   "file_extension": ".py",
   "mimetype": "text/x-python",
   "name": "python",
   "nbconvert_exporter": "python",
   "pygments_lexer": "ipython3",
   "version": "3.11.0"
  }
 },
 "nbformat": 4,
 "nbformat_minor": 2
}
