{
 "cells": [
  {
   "cell_type": "code",
   "execution_count": 1,
   "metadata": {},
   "outputs": [],
   "source": [
    "from langchain.chat_models import ChatOpenAI\n",
    "from langchain.tools import tool\n",
    "from langchain.chains import LLMChain\n",
    "from langchain.prompts import ChatPromptTemplate, MessagesPlaceholder\n",
    "from langchain.schema.agent import AgentFinish\n",
    "from langchain.tools.render import format_tool_to_openai_function\n",
    "from langchain.agents.output_parsers import OpenAIFunctionsAgentOutputParser\n",
    "from pydantic import BaseModel, Field\n",
    "from llama_index.core import VectorStoreIndex, SimpleDirectoryReader\n",
    "from pydantic import BaseModel, Field"
   ]
  },
  {
   "cell_type": "code",
   "execution_count": 2,
   "metadata": {},
   "outputs": [
    {
     "name": "stderr",
     "output_type": "stream",
     "text": [
      "C:\\Users\\Design Dep\\AppData\\Local\\Temp\\ipykernel_8616\\1305393998.py:1: LangChainDeprecationWarning: The class `ChatOpenAI` was deprecated in LangChain 0.0.10 and will be removed in 1.0. An updated version of the class exists in the :class:`~langchain-openai package and should be used instead. To use it run `pip install -U :class:`~langchain-openai` and import as `from :class:`~langchain_openai import ChatOpenAI``.\n",
      "  openai_llm = ChatOpenAI(temperature=0, model=\"gpt-4o\")\n"
     ]
    }
   ],
   "source": [
    "openai_llm = ChatOpenAI(temperature=0, model=\"gpt-4o\")"
   ]
  },
  {
   "cell_type": "code",
   "execution_count": 3,
   "metadata": {},
   "outputs": [],
   "source": [
    "chat_template =\"\"\"\n",
    "\n",
    "You are an expert in analyzing CVs and providing personalized career advice. Given an individual's CV, you will:\n",
    "\n",
    "1. Conduct a detailed analysis of their skills, experience, qualifications, and overall suitability for various roles.\n",
    "2. Recommend the best job opportunities that align with their profile, ensuring that the suggestions are well-matched to their strengths and career goals.\n",
    "3. Take into account current industry trends, job market demand, and emerging opportunities to ensure that your recommendations are both relevant and forward-thinking.\n",
    "4. Provide actionable insights that can help improve the CV, such as highlighting areas for growth or skill enhancement based on market needs.\n",
    "\n",
    "Your goal is to give comprehensive, data-driven advice that helps individuals make informed career decisions.\n",
    "\n",
    "below is the CV:\n",
    "{input}\n",
    "\"\"\"\n",
    "\n"
   ]
  },
  {
   "cell_type": "code",
   "execution_count": 4,
   "metadata": {},
   "outputs": [
    {
     "name": "stderr",
     "output_type": "stream",
     "text": [
      "d:\\Rhodrick\\langChain\\Job application assistant\\.venv\\Lib\\site-packages\\tqdm\\auto.py:21: TqdmWarning: IProgress not found. Please update jupyter and ipywidgets. See https://ipywidgets.readthedocs.io/en/stable/user_install.html\n",
      "  from .autonotebook import tqdm as notebook_tqdm\n"
     ]
    }
   ],
   "source": [
    "import gradio as gr\n",
    "import os\n",
    "def get_file(file_path):\n",
    "    directory_name = os.path.dirname(file_path)  \n",
    "    \n",
    "    documents = SimpleDirectoryReader(directory_name).load_data()    \n",
    "    prompt = ChatPromptTemplate.from_template(chat_template)\n",
    "    chain = LLMChain(prompt=prompt, llm=openai_llm)\n",
    "    global doc_info \n",
    "    doc_info = documents[0].text\n",
    "    response = chain.run({\"input\":doc_info})\n",
    "    return response\n",
    "demo = gr.Interface(fn=get_file, inputs=gr.File(), outputs=\"text\")\n",
    "\n",
    "\n"
   ]
  },
  {
   "cell_type": "code",
   "execution_count": 5,
   "metadata": {},
   "outputs": [
    {
     "name": "stdout",
     "output_type": "stream",
     "text": [
      "* Running on local URL:  http://127.0.0.1:7860\n",
      "\n",
      "To create a public link, set `share=True` in `launch()`.\n"
     ]
    },
    {
     "data": {
      "text/html": [
       "<div><iframe src=\"http://127.0.0.1:7860/\" width=\"100%\" height=\"500\" allow=\"autoplay; camera; microphone; clipboard-read; clipboard-write;\" frameborder=\"0\" allowfullscreen></iframe></div>"
      ],
      "text/plain": [
       "<IPython.core.display.HTML object>"
      ]
     },
     "metadata": {},
     "output_type": "display_data"
    },
    {
     "data": {
      "text/plain": []
     },
     "execution_count": 5,
     "metadata": {},
     "output_type": "execute_result"
    },
    {
     "name": "stderr",
     "output_type": "stream",
     "text": [
      "C:\\Users\\Design Dep\\AppData\\Local\\Temp\\ipykernel_8616\\1428651765.py:8: LangChainDeprecationWarning: The class `LLMChain` was deprecated in LangChain 0.1.17 and will be removed in 1.0. Use :meth:`~RunnableSequence, e.g., `prompt | llm`` instead.\n",
      "  chain = LLMChain(prompt=prompt, llm=openai_llm)\n",
      "C:\\Users\\Design Dep\\AppData\\Local\\Temp\\ipykernel_8616\\1428651765.py:11: LangChainDeprecationWarning: The method `Chain.run` was deprecated in langchain 0.1.0 and will be removed in 1.0. Use :meth:`~invoke` instead.\n",
      "  response = chain.run({\"input\":doc_info})\n"
     ]
    }
   ],
   "source": [
    "demo.launch()\n",
    "# demo.close()"
   ]
  },
  {
   "cell_type": "code",
   "execution_count": null,
   "metadata": {},
   "outputs": [],
   "source": [
    "class CVDetails(BaseModel):\n",
    "    cv_summary :str = Field(description=\"The overall summary of the person Cv\")"
   ]
  },
  {
   "cell_type": "code",
   "execution_count": null,
   "metadata": {},
   "outputs": [],
   "source": [
    "from bs4 import BeautifulSoup\n",
    "import requests\n",
    "\n",
    "html_text = requests.get(\"https://www.myjob.mu/Jobs/ICT-IT-Web/\").text\n",
    "\n",
    "soup = BeautifulSoup(html_text, \"lxml\")\n",
    "job_results = soup.find_all(\"div\", class_=\"module job-result\")\n",
    "if len(job_results)> 0:\n",
    "    for job in job_results:\n",
    "        company_name = job.find('h3', itemprop=\"name\")\n",
    "        company_name = company_name.a.text\n",
    "        print(f\"company_name is {company_name}\")\n",
    "        job_name = job.find(\"h2\", itemprop=\"title\")\n",
    "        job_name = job_name.a.text\n",
    "        job_results_overview = job.find(\"div\", class_=\"job-result-overview\")\n",
    "        overview = job_results_overview.find(\"\")\n",
    "        print(f\"job name is: {job_name}\")\n",
    "        #job_description =\n",
    "\n"
   ]
  },
  {
   "cell_type": "code",
   "execution_count": null,
   "metadata": {},
   "outputs": [],
   "source": []
  }
 ],
 "metadata": {
  "kernelspec": {
   "display_name": ".venv",
   "language": "python",
   "name": "python3"
  },
  "language_info": {
   "codemirror_mode": {
    "name": "ipython",
    "version": 3
   },
   "file_extension": ".py",
   "mimetype": "text/x-python",
   "name": "python",
   "nbconvert_exporter": "python",
   "pygments_lexer": "ipython3",
   "version": "3.11.0"
  }
 },
 "nbformat": 4,
 "nbformat_minor": 2
}
